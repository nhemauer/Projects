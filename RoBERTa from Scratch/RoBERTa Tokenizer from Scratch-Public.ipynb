{
 "cells": [
  {
   "cell_type": "code",
   "execution_count": null,
   "id": "568b8c07-e466-44bc-9cfc-2a81e34ceeb4",
   "metadata": {},
   "outputs": [],
   "source": [
    "from pathlib import Path\n",
    "from tokenizers import ByteLevelBPETokenizer\n",
    "import torch\n",
    "import json\n",
    "import matplotlib.pyplot as plt\n",
    "import pandas as pd"
   ]
  },
  {
   "cell_type": "markdown",
   "id": "3dd2a5fc-92ce-4232-9609-e0be58d22e23",
   "metadata": {},
   "source": [
    "# Load Corpus"
   ]
  },
  {
   "cell_type": "code",
   "execution_count": null,
   "id": "c778960f-fe5b-4372-8398-db013296fbfa",
   "metadata": {},
   "outputs": [],
   "source": [
    "from datasets import load_dataset\n",
    "from huggingface_hub import login\n",
    "\n",
    "login(token=\"\") # Dont share this\n",
    "\n",
    "# Huge Corpus of English\n",
    "\n",
    "dataset = load_dataset(\"oscar-corpus/OSCAR-2301\",\n",
    "                       token=True, # required\n",
    "                       language=\"en\", \n",
    "                       streaming=True, # optional\n",
    "                       split=\"train\") # optional"
   ]
  },
  {
   "cell_type": "markdown",
   "id": "19eccdac-f55a-4735-bb08-c8f1a51c662b",
   "metadata": {},
   "source": [
    "# Create/Train Tokenizer "
   ]
  },
  {
   "cell_type": "code",
   "execution_count": null,
   "id": "bbda70e4-f687-40ea-83ae-2070747acbf2",
   "metadata": {},
   "outputs": [],
   "source": [
    "class Tokenizer:\n",
    "    \n",
    "    # BPE Tokenizer for RoBERTa specifically\n",
    "    \n",
    "    def __init__(self, tokenizer_vocab_path, tokenizer_merges_path):\n",
    "    # Initialize Tokenizer aspects\n",
    "        self.tokenizer_vocab = tokenizer_vocab_path\n",
    "        self.tokenizer_merges = tokenizer_merges_path\n",
    "        self.special_tokens = [\"<s>\", \"<pad>\", \"</s>\", \"<unk>\", \"<mask>\"] # Same tokens used in RoBERTa; these vary by model\n",
    "        self.tokenizer = self._load_tokenizer()\n",
    "    \n",
    "    def _load_tokenizer(self):\n",
    "    # Load Tokenizer\n",
    "        tokenizer = ByteLevelBPETokenizer()\n",
    "        \n",
    "        if Path(self.tokenizer_vocab and self.tokenizer_merges).exists():\n",
    "            # Load existing tokenizer\n",
    "            tokenizer = ByteLevelBPETokenizer.from_file(self.tokenizer_vocab, self.tokenizer_merges)\n",
    "            \n",
    "        else:\n",
    "            \n",
    "            # Create a generator that yields text from the dataset\n",
    "            def text_iterator():\n",
    "                for item in dataset:\n",
    "                    yield item['text']\n",
    "                        \n",
    "            # Train new tokenizer\n",
    "            tokenizer.train_from_iterator(\n",
    "                text_iterator(),\n",
    "                vocab_size=50265, # RoBERTa Vocab Size\n",
    "                min_frequency=2,\n",
    "                special_tokens=self.special_tokens\n",
    "            )\n",
    "            \n",
    "            tokenizer.save_model(\"path/to/save/directory\", \"my_vocab.json\", \"my_merges.txt\")\n",
    "        \n",
    "        return tokenizer\n",
    "    \n",
    "    def encode(self, text):\n",
    "    # Encode text to tokens\n",
    "        return self.tokenizer.encode(text)\n",
    "    \n",
    "    def decode(self, tokens):\n",
    "    # Decode Tokens back into text\n",
    "        try:\n",
    "            decoded_text = self.tokenizer.decode(tokens)\n",
    "        except Exception as e:\n",
    "            print(f\"Error decoding tokens: {tokens}\")\n",
    "            raise e\n",
    "        return decoded_text"
   ]
  },
  {
   "cell_type": "markdown",
   "id": "d786ab23-6045-42d5-aefb-57317f5adf56",
   "metadata": {},
   "source": [
    "# Load Tokenizer"
   ]
  },
  {
   "cell_type": "code",
   "execution_count": null,
   "id": "e1263bd8-af30-4ec7-b497-a5ee17f6e09c",
   "metadata": {},
   "outputs": [],
   "source": [
    "tokenizer_vocab_path = \".json\" \n",
    "tokenizer_merges_path = \".txt\"\n",
    "\n",
    "tokenizer = Tokenizer(tokenizer_vocab_path, tokenizer_merges_path) # Load Tokenizer or Create new"
   ]
  },
  {
   "cell_type": "markdown",
   "id": "1f37fd63-4f36-409d-9880-e33f9bc7cc56",
   "metadata": {},
   "source": [
    "# Encode Text"
   ]
  },
  {
   "cell_type": "code",
   "execution_count": null,
   "id": "537776f7-0eb3-4a31-9061-7f6a8c7dfcf0",
   "metadata": {},
   "outputs": [],
   "source": [
    "text = [\"This is a tokenizer.\", \"This hopefully works.\", \"It should?\"]\n",
    "text = pd.Series(text)\n",
    "\n",
    "encoded_corpus = []\n",
    "\n",
    "i = 0\n",
    "\n",
    "while i <= len(text) - 1:\n",
    "    example = text.iloc[i]\n",
    "    encoded = tokenizer.encode(example)\n",
    "    encoded_corpus.append(encoded)\n",
    "    i = i + 1\n",
    "    \n",
    "encoded_corpus[1]"
   ]
  },
  {
   "cell_type": "markdown",
   "id": "26f24c31-9a36-4735-8bf1-2b6a535df190",
   "metadata": {},
   "source": [
    "# Decode Text"
   ]
  },
  {
   "cell_type": "code",
   "execution_count": null,
   "id": "4ef20724-a315-464b-8905-a2571cf1f4de",
   "metadata": {},
   "outputs": [],
   "source": [
    "decoded_text = []\n",
    "\n",
    "i = 0\n",
    "\n",
    "while i <= len(text) - 1:\n",
    "    example = encoded_corpus[i]\n",
    "    decoded = tokenizer.decode(example.ids)\n",
    "    decoded_text.append(decoded)\n",
    "    i = i + 1\n",
    "    \n",
    "decoded_text[1]"
   ]
  }
 ],
 "metadata": {
  "kernelspec": {
   "display_name": "Python 3",
   "language": "python",
   "name": "python3"
  },
  "language_info": {
   "codemirror_mode": {
    "name": "ipython",
    "version": 3
   },
   "file_extension": ".py",
   "mimetype": "text/x-python",
   "name": "python",
   "nbconvert_exporter": "python",
   "pygments_lexer": "ipython3",
   "version": "3.8.8"
  }
 },
 "nbformat": 4,
 "nbformat_minor": 5
}
