{
 "cells": [
  {
   "cell_type": "code",
   "execution_count": 69,
   "id": "6c542cfe-da35-4ada-a714-a0ae02b872c6",
   "metadata": {},
   "outputs": [],
   "source": [
    "import pandas as pd"
   ]
  },
  {
   "cell_type": "code",
   "execution_count": 83,
   "id": "deccace5-0ae4-443c-ac77-3ef62556330e",
   "metadata": {},
   "outputs": [],
   "source": [
    "train = pd.read_csv(\"Corona_NLP_train.csv\", index_col = 0, encoding='latin-1')\n",
    "test = pd.read_csv(\"Corona_NLP_test.csv\", index_col = 0, encoding='latin-1')"
   ]
  },
  {
   "cell_type": "code",
   "execution_count": 84,
   "id": "0b8cb73b-f3ae-4186-93f3-cf8afb264bc1",
   "metadata": {},
   "outputs": [],
   "source": [
    "#Map encodings\n",
    "\n",
    "encoded_dict = {'Extremely Negative':0, 'Negative':0, 'Neutral':1, 'Positive':2, 'Extremely Positive':2}\n",
    "\n",
    "train['Sentiment'] = train.Sentiment.map(encoded_dict)\n",
    "test['Sentiment'] = test.Sentiment.map(encoded_dict)"
   ]
  },
  {
   "cell_type": "code",
   "execution_count": 85,
   "id": "47b06d98-7b40-47cd-b905-b590ca50762d",
   "metadata": {},
   "outputs": [],
   "source": [
    "#Label to categorical representation\n",
    "\n",
    "from tensorflow.keras.utils import to_categorical\n",
    "\n",
    "y_train = to_categorical(train.Sentiment)\n",
    "y_test = to_categorical(test.Sentiment)"
   ]
  },
  {
   "cell_type": "code",
   "execution_count": null,
   "id": "6ba91d01-e6ac-4cfa-b466-b72efd9399a7",
   "metadata": {},
   "outputs": [],
   "source": [
    "#Define tokenizer/bert\n",
    "\n",
    "import transformers\n",
    "from transformers import AutoTokenizer,TFBertModel\n",
    "\n",
    "tokenizer = AutoTokenizer.from_pretrained('bert-base-cased')\n",
    "bert = TFBertModel.from_pretrained('bert-base-cased')"
   ]
  },
  {
   "cell_type": "code",
   "execution_count": 87,
   "id": "18a90084-d08d-48f9-8364-60e2f999828e",
   "metadata": {},
   "outputs": [],
   "source": [
    "#Tokenize the input\n",
    "\n",
    "X_train = tokenizer(\n",
    "    text = train.OriginalTweet.tolist(),\n",
    "    add_special_tokens = True,\n",
    "    max_length = 70,\n",
    "    truncation = True,\n",
    "    padding = True, \n",
    "    return_tensors = 'tf',\n",
    "    return_token_type_ids = False,\n",
    "    return_attention_mask = True,\n",
    "    verbose = True)\n",
    "X_test = tokenizer(\n",
    "    text = test.OriginalTweet.tolist(),\n",
    "    add_special_tokens = True,\n",
    "    max_length = 70,\n",
    "    truncation = True,\n",
    "    padding = True, \n",
    "    return_tensors = 'tf',\n",
    "    return_token_type_ids = False,\n",
    "    return_attention_mask = True,\n",
    "    verbose = True)"
   ]
  },
  {
   "cell_type": "code",
   "execution_count": 88,
   "id": "223af759-a405-4460-930e-5da729d3bd70",
   "metadata": {},
   "outputs": [],
   "source": [
    "input_ids = X_train['input_ids']\n",
    "attention_mask = X_train['attention_mask']"
   ]
  },
  {
   "cell_type": "code",
   "execution_count": 92,
   "id": "b7b4b3bb-779a-4b01-9d75-25abbd294f1c",
   "metadata": {},
   "outputs": [],
   "source": [
    "import tensorflow as tf\n",
    "from tensorflow.keras.callbacks import EarlyStopping\n",
    "from tensorflow.keras.initializers import TruncatedNormal\n",
    "from tensorflow.keras.losses import sparse_categorical_crossentropy\n",
    "from tensorflow.keras.metrics import CategoricalAccuracy\n",
    "from tensorflow.keras.layers import Input, Dense\n",
    "\n",
    "max_len = 70\n",
    "input_ids = Input(shape = (max_len,), dtype = tf.int32, name = \"input_ids\")\n",
    "input_mask = Input(shape = (max_len,), dtype = tf.int32, name = \"attention_mask\")\n",
    "embeddings = bert(input_ids, attention_mask = input_mask)[0] \n",
    "out = tf.keras.layers.GlobalMaxPool1D()(embeddings)\n",
    "out = Dense(128, activation='relu')(out)\n",
    "out = tf.keras.layers.Dropout(0.1)(out)\n",
    "out = Dense(32, activation = 'relu')(out)\n",
    "y = Dense(3, activation = 'sigmoid')(out)          #Change for number of labels\n",
    "model = tf.keras.Model(inputs = [input_ids, input_mask], outputs = y)\n",
    "model.layers[2].trainable = True\n",
    "\n",
    "#Compile the model\n",
    "model.compile(\n",
    "    optimizer = 'adam',\n",
    "    loss = \"categorical_crossentropy\")"
   ]
  },
  {
   "cell_type": "code",
   "execution_count": null,
   "id": "d74b83cc-ae41-42bd-a2c2-a274b9ff2b83",
   "metadata": {},
   "outputs": [],
   "source": [
    "#Train model\n",
    "\n",
    "train_history = model.fit(\n",
    "    x = {'input_ids':X_train['input_ids'], 'attention_mask': X_train['attention_mask']},\n",
    "    y = y_train,\n",
    "    validation_data = (\n",
    "    {'input_ids':X_test['input_ids'], 'attention_mask': X_test['attention_mask']}, y_test),\n",
    "    epochs = 1,\n",
    "    batch_size = 36\n",
    ")"
   ]
  },
  {
   "cell_type": "code",
   "execution_count": 94,
   "id": "70769fb2-fdd3-46f6-9946-57aa2d9447ea",
   "metadata": {},
   "outputs": [
    {
     "name": "stdout",
     "output_type": "stream",
     "text": [
      "119/119 [==============================] - 105s 869ms/step\n"
     ]
    }
   ],
   "source": [
    "predicted_raw = model.predict({'input_ids':x_test['input_ids'],'attention_mask':x_test['attention_mask']})"
   ]
  },
  {
   "cell_type": "code",
   "execution_count": 95,
   "id": "da9a0d3e-dbc2-4bb7-b5d4-2b66311c723b",
   "metadata": {},
   "outputs": [
    {
     "name": "stdout",
     "output_type": "stream",
     "text": [
      "              precision    recall  f1-score   support\n",
      "\n",
      "           0       0.43      1.00      0.60      1633\n",
      "           1       0.00      0.00      0.00       619\n",
      "           2       0.00      0.00      0.00      1546\n",
      "\n",
      "    accuracy                           0.43      3798\n",
      "   macro avg       0.14      0.33      0.20      3798\n",
      "weighted avg       0.18      0.43      0.26      3798\n",
      "\n"
     ]
    },
    {
     "name": "stderr",
     "output_type": "stream",
     "text": [
      "/swst/apps/anaconda3/2021.05_gcc-8.5.0/lib/python3.8/site-packages/sklearn/metrics/_classification.py:1245: UndefinedMetricWarning: Precision and F-score are ill-defined and being set to 0.0 in labels with no predicted samples. Use `zero_division` parameter to control this behavior.\n",
      "  _warn_prf(average, modifier, msg_start, len(result))\n",
      "/swst/apps/anaconda3/2021.05_gcc-8.5.0/lib/python3.8/site-packages/sklearn/metrics/_classification.py:1245: UndefinedMetricWarning: Precision and F-score are ill-defined and being set to 0.0 in labels with no predicted samples. Use `zero_division` parameter to control this behavior.\n",
      "  _warn_prf(average, modifier, msg_start, len(result))\n",
      "/swst/apps/anaconda3/2021.05_gcc-8.5.0/lib/python3.8/site-packages/sklearn/metrics/_classification.py:1245: UndefinedMetricWarning: Precision and F-score are ill-defined and being set to 0.0 in labels with no predicted samples. Use `zero_division` parameter to control this behavior.\n",
      "  _warn_prf(average, modifier, msg_start, len(result))\n"
     ]
    }
   ],
   "source": [
    "\n",
    "y_predicted = np.argmax(predicted_raw, axis = 1)\n",
    "y_true = test.Sentiment\n",
    "\n",
    "from sklearn.metrics import classification_report\n",
    "print(classification_report(y_true, y_predicted))"
   ]
  },
  {
   "cell_type": "code",
   "execution_count": null,
   "id": "c4511f6e-638c-4a9e-aa82-b7c9a758fce3",
   "metadata": {},
   "outputs": [],
   "source": []
  }
 ],
 "metadata": {
  "kernelspec": {
   "display_name": "Python 3",
   "language": "python",
   "name": "python3"
  },
  "language_info": {
   "codemirror_mode": {
    "name": "ipython",
    "version": 3
   },
   "file_extension": ".py",
   "mimetype": "text/x-python",
   "name": "python",
   "nbconvert_exporter": "python",
   "pygments_lexer": "ipython3",
   "version": "3.8.8"
  }
 },
 "nbformat": 4,
 "nbformat_minor": 5
}
