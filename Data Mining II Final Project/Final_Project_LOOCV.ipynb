{
 "cells": [
  {
   "cell_type": "markdown",
   "id": "93648cfe-b545-4d7e-9a7e-b547e9fe5f3a",
   "metadata": {},
   "source": [
    "# Data Mining II Final Project (LOOCV Version)\n",
    "\n",
    "# 1. In this project, I look to look at the effect health measures (depression, happiness, physical health, and health) plays towards the out-of-sample predictive accuracy of several models.\n",
    "# 2. Furthermore, I use kernel PCA on the four health measures as a 3rd option-- in addition to the other two models."
   ]
  },
  {
   "cell_type": "code",
   "execution_count": 1,
   "id": "39ba52a1-3729-4353-8212-0658935e33c5",
   "metadata": {},
   "outputs": [],
   "source": [
    "import pandas as pd\n",
    "import numpy as np\n",
    "import warnings\n",
    "warnings.filterwarnings(action='ignore')"
   ]
  },
  {
   "cell_type": "markdown",
   "id": "bec329e0-d07d-473c-ba63-b71b38731e87",
   "metadata": {},
   "source": [
    "# Creating Train/Test Sets for All Measures, No Health Measures, and PCA"
   ]
  },
  {
   "cell_type": "code",
   "execution_count": 2,
   "id": "3a77754f-dae3-48e3-b02e-d83adf9016c6",
   "metadata": {},
   "outputs": [],
   "source": [
    "combined_data = pd.read_csv(\"combined_data3.csv\")\n",
    "combined_data = combined_data.iloc[:, 1:]"
   ]
  },
  {
   "cell_type": "code",
   "execution_count": 3,
   "id": "b76133f5-5a13-47e4-b907-cc40faecf0a5",
   "metadata": {},
   "outputs": [],
   "source": [
    "from sklearn.model_selection import train_test_split\n",
    "\n",
    "#Extract the features and target variable\n",
    "X = combined_data.drop(columns=['Vote16'])\n",
    "y = combined_data['Vote16']\n",
    "\n",
    "np.random.seed(1337)\n",
    "\n",
    "#Split the data into training and test sets\n",
    "X_train, X_test, y_train, y_test = train_test_split(X, y, test_size=0.10, random_state=1337)\n",
    "\n",
    "#For the non-health measure classifications\n",
    "X_train_cut = X_train[[\"Marital\", \"Age\", \"Educ\", \"Sex\", \"Race\", \"Income\", \"WrkGovt\", \"Party\"]]\n",
    "X_cut = X[[\"Marital\", \"Age\", \"Educ\", \"Sex\", \"Race\", \"Income\", \"WrkGovt\", \"Party\"]]"
   ]
  },
  {
   "cell_type": "code",
   "execution_count": 4,
   "id": "3ae9fc8a-c56f-41af-82e1-19b8aaf7a9c6",
   "metadata": {},
   "outputs": [],
   "source": [
    "import pandas as pd\n",
    "from sklearn.decomposition import KernelPCA\n",
    "import matplotlib.pyplot as plt\n",
    "\n",
    "pca_variables = combined_data[['Depression', 'Happy', 'Physhlth', 'Health']]\n",
    "\n",
    "kpca = KernelPCA(kernel = 'rbf', gamma = 0.1)\n",
    "transformed_data = kpca.fit_transform(pca_variables)\n",
    "\n",
    "#Create transformed DF from PCA\n",
    "pca_variables = pd.DataFrame(transformed_data)\n",
    "\n",
    "pca_variables = pd.concat([combined_data[[\"Vote16\", \"Marital\", \"Age\", \"Educ\", \"Sex\", \"Race\", \"Income\", \"WrkGovt\", \"Party\"]], pca_variables], axis=1)\n",
    "X_pca = pca_variables.drop(columns = ['Vote16'])\n",
    "y_pca = pca_variables['Vote16']\n",
    "\n",
    "X_train_pca, X_test_pca, y_train_pca, y_test_pca = train_test_split(X_pca, y_pca, test_size=0.10, random_state=1337)"
   ]
  },
  {
   "cell_type": "markdown",
   "id": "55c75cc7-4218-49aa-8de8-96842f77f146",
   "metadata": {},
   "source": [
    "# SVM Classification"
   ]
  },
  {
   "cell_type": "code",
   "execution_count": 5,
   "id": "6b09a734-fde6-4228-b6dd-60c58cd6911d",
   "metadata": {},
   "outputs": [
    {
     "name": "stdout",
     "output_type": "stream",
     "text": [
      "All Measures Accuracy: 0.7453151618398637\n"
     ]
    }
   ],
   "source": [
    "from sklearn.model_selection import GridSearchCV\n",
    "from sklearn.svm import SVC\n",
    "from sklearn.metrics import confusion_matrix, accuracy_score\n",
    "from sklearn.model_selection import LeaveOneOut\n",
    "from sklearn.model_selection import cross_val_score\n",
    "\n",
    "np.random.seed(1337)\n",
    "\n",
    "#All Measures\n",
    "\n",
    "#Define parameter grid for tuning\n",
    "param_grid = {'C': [10**i for i in range(-1, 3)], 'gamma': [0.1, 1, 5]}\n",
    "\n",
    "#Instantiate SVM classifier\n",
    "svm = SVC(kernel = 'rbf')\n",
    "\n",
    "#Perform grid search cross-validation\n",
    "grid_search = GridSearchCV(svm, param_grid, cv = 20)\n",
    "grid_search.fit(X_train, y_train)\n",
    "\n",
    "#Select Best Model Found\n",
    "best_model = grid_search.best_estimator_\n",
    "\n",
    "#Define cross-validation method to use\n",
    "cv = LeaveOneOut()\n",
    "\n",
    "#use LOOCV to evaluate model\n",
    "scores = cross_val_score(best_model, X, y, scoring='accuracy',\n",
    "                         cv=cv, n_jobs=-1)\n",
    "\n",
    "accuracy = scores.mean()\n",
    "\n",
    "#Print accuracy\n",
    "print(\"All Measures Accuracy:\", accuracy)"
   ]
  },
  {
   "cell_type": "code",
   "execution_count": 6,
   "id": "35d79601-2d39-4119-94c0-dfe02838b374",
   "metadata": {},
   "outputs": [
    {
     "name": "stdout",
     "output_type": "stream",
     "text": [
      "No Health Measures Accuracy: 0.7534071550255537\n"
     ]
    }
   ],
   "source": [
    "#Without Health Measures \n",
    "\n",
    "np.random.seed(1337)\n",
    "\n",
    "#Define parameter grid for tuning\n",
    "param_grid = {'C': [10**i for i in range(-1, 3)], 'gamma': [0.1, 1, 5]}\n",
    "\n",
    "#Instantiate SVM classifier\n",
    "svm = SVC(kernel = 'rbf')\n",
    "\n",
    "#Perform grid search cross-validation\n",
    "grid_search = GridSearchCV(svm, param_grid, cv = 20)\n",
    "grid_search.fit(X_train_cut, y_train)\n",
    "\n",
    "#Select Best Model Found\n",
    "best_model = grid_search.best_estimator_\n",
    "\n",
    "#Define cross-validation method to use\n",
    "cv = LeaveOneOut()\n",
    "\n",
    "#use LOOCV to evaluate model\n",
    "scores = cross_val_score(best_model, X_cut, y, scoring='accuracy',\n",
    "                         cv=cv, n_jobs=-1)\n",
    "\n",
    "accuracy = scores.mean()\n",
    "\n",
    "#Print accuracy\n",
    "print(\"No Health Measures Accuracy:\", accuracy)"
   ]
  },
  {
   "cell_type": "code",
   "execution_count": 7,
   "id": "a6dd6b41-3634-44a6-bea5-e9fc87b26ce3",
   "metadata": {},
   "outputs": [
    {
     "name": "stdout",
     "output_type": "stream",
     "text": [
      "PCA Measure Accuracy: 0.7512776831345827\n"
     ]
    }
   ],
   "source": [
    "#All Measures With RBF Kernel PCA\n",
    "\n",
    "np.random.seed(1337)\n",
    "\n",
    "#Define parameter grid for tuning\n",
    "param_grid = {'C': [10**i for i in range(-1, 3)], 'gamma': [0.1, 1, 5]}\n",
    "\n",
    "#Instantiate SVM classifier\n",
    "svm = SVC(kernel = 'rbf')\n",
    "\n",
    "#Perform grid search cross-validation\n",
    "grid_search = GridSearchCV(svm, param_grid, cv = 20)\n",
    "grid_search.fit(X_train_pca, y_train_pca)\n",
    "\n",
    "#Select Best Model Found\n",
    "best_model = grid_search.best_estimator_\n",
    "\n",
    "#Define cross-validation method to use\n",
    "cv = LeaveOneOut()\n",
    "\n",
    "#use LOOCV to evaluate model\n",
    "scores = cross_val_score(best_model, X_pca, y_pca, scoring='accuracy',\n",
    "                         cv=cv, n_jobs=-1)\n",
    "\n",
    "accuracy = scores.mean()\n",
    "\n",
    "#Print accuracy\n",
    "print(\"PCA Measure Accuracy:\", accuracy)"
   ]
  },
  {
   "cell_type": "markdown",
   "id": "5cb5cf92-a8da-47a2-b79b-1a99e9cc5862",
   "metadata": {},
   "source": [
    "# XGBoost"
   ]
  },
  {
   "cell_type": "code",
   "execution_count": 8,
   "id": "55b4c017-acda-4b03-8dca-1709f7a7622c",
   "metadata": {},
   "outputs": [
    {
     "name": "stdout",
     "output_type": "stream",
     "text": [
      "All Measures Accuracy: 0.7632027257240205\n"
     ]
    }
   ],
   "source": [
    "import xgboost as xgb\n",
    "\n",
    "np.random.seed(1337)\n",
    "\n",
    "#With All Measures\n",
    "\n",
    "#Set Search Params\n",
    "param_grid = {\n",
    "    'max_depth': [3, 4, 5],\n",
    "    'learning_rate': [0.1, 0.01, 0.001],\n",
    "    'n_estimators': [100, 200, 300]\n",
    "}\n",
    "\n",
    "#Instantiate XGB\n",
    "xgb = xgb.XGBClassifier()\n",
    "\n",
    "#Perform grid search\n",
    "grid_search = GridSearchCV(estimator = xgb, param_grid = param_grid, cv = 20, scoring = 'accuracy')\n",
    "grid_search.fit(X_train, y_train)\n",
    "\n",
    "#Select Best Model Found\n",
    "best_model = grid_search.best_estimator_\n",
    "\n",
    "#Define cross-validation method to use\n",
    "cv = LeaveOneOut()\n",
    "\n",
    "#use LOOCV to evaluate model\n",
    "scores = cross_val_score(best_model, X, y, scoring='accuracy',\n",
    "                         cv=cv, n_jobs=-1)\n",
    "\n",
    "accuracy = scores.mean()\n",
    "\n",
    "#Print accuracy\n",
    "print(\"All Measures Accuracy:\", accuracy)"
   ]
  },
  {
   "cell_type": "code",
   "execution_count": 9,
   "id": "753c9ad6-13dc-4d99-8009-22fb18c468a3",
   "metadata": {},
   "outputs": [
    {
     "name": "stdout",
     "output_type": "stream",
     "text": [
      "No Health Measures Accuracy: 0.762350936967632\n"
     ]
    }
   ],
   "source": [
    "\n",
    "np.random.seed(1337)\n",
    "\n",
    "#Without Health Measures\n",
    "\n",
    "#Set Search Params\n",
    "param_grid = {\n",
    "    'max_depth': [3, 4, 5],\n",
    "    'learning_rate': [0.1, 0.01, 0.001],\n",
    "    'n_estimators': [100, 200, 300]\n",
    "}\n",
    "\n",
    "#Instantiate XGB\n",
    "xgb = xgb.XGBClassifier()\n",
    "\n",
    "#Perform grid search\n",
    "grid_search = GridSearchCV(estimator = xgb, param_grid = param_grid, cv = 20, scoring = 'accuracy')\n",
    "grid_search.fit(X_train_cut, y_train)\n",
    "\n",
    "#Select Best Model Found\n",
    "best_model = grid_search.best_estimator_\n",
    "\n",
    "#Define cross-validation method to use\n",
    "cv = LeaveOneOut()\n",
    "\n",
    "#use LOOCV to evaluate model\n",
    "scores = cross_val_score(best_model, X_cut, y, scoring='accuracy',\n",
    "                         cv=cv, n_jobs=-1)\n",
    "\n",
    "accuracy = scores.mean()\n",
    "\n",
    "#Print accuracy\n",
    "print(\"No Health Measures Accuracy:\", accuracy)"
   ]
  },
  {
   "cell_type": "code",
   "execution_count": 10,
   "id": "6425bb48-eff9-4e31-aa78-b3666c56074f",
   "metadata": {},
   "outputs": [
    {
     "name": "stdout",
     "output_type": "stream",
     "text": [
      "PCA Measure Accuracy: 0.7546848381601363\n"
     ]
    }
   ],
   "source": [
    "\n",
    "np.random.seed(1337)\n",
    "\n",
    "#All Measures with Linear Kernel PCA\n",
    "\n",
    "#Set Search Params\n",
    "param_grid = {\n",
    "    'max_depth': [3, 4, 5],\n",
    "    'learning_rate': [0.1, 0.01, 0.001],\n",
    "    'n_estimators': [100, 200, 300]\n",
    "}\n",
    "\n",
    "#Instantiate XGB\n",
    "xgb = xgb.XGBClassifier()\n",
    "\n",
    "#Perform grid search\n",
    "grid_search = GridSearchCV(estimator = xgb, param_grid = param_grid, cv = 20, scoring = 'accuracy')\n",
    "grid_search.fit(X_train_pca, y_train_pca)\n",
    "\n",
    "#Select Best Model Found\n",
    "best_model = grid_search.best_estimator_\n",
    "\n",
    "#Define cross-validation method to use\n",
    "cv = LeaveOneOut()\n",
    "\n",
    "#use LOOCV to evaluate model\n",
    "scores = cross_val_score(best_model, X_pca, y_pca, scoring='accuracy',\n",
    "                         cv=cv, n_jobs=-1)\n",
    "\n",
    "accuracy = scores.mean()\n",
    "\n",
    "#Print accuracy\n",
    "print(\"PCA Measure Accuracy:\", accuracy)"
   ]
  },
  {
   "cell_type": "markdown",
   "id": "d9e45440-b45e-4cd0-a539-1884b4d96f7e",
   "metadata": {},
   "source": [
    "# Random Forest"
   ]
  },
  {
   "cell_type": "code",
   "execution_count": 11,
   "id": "73c7fd88-6ead-4d5e-8d8f-80ac5c324dd1",
   "metadata": {},
   "outputs": [
    {
     "name": "stdout",
     "output_type": "stream",
     "text": [
      "All Measures Accuracy: 0.7453151618398637\n"
     ]
    }
   ],
   "source": [
    "from sklearn.ensemble import RandomForestClassifier\n",
    "\n",
    "np.random.seed(1337)\n",
    "\n",
    "#All Measures\n",
    "\n",
    "#Search Params\n",
    "param_grid = {\n",
    "    'max_depth': [3, 4, 5],\n",
    "    'n_estimators': [100, 200, 300]\n",
    "}\n",
    "\n",
    "#Instantiate Random Forest\n",
    "rf = RandomForestClassifier()\n",
    "\n",
    "#Perform grid search\n",
    "grid_search = GridSearchCV(estimator = rf, param_grid = param_grid, cv = 20, scoring = 'accuracy')\n",
    "grid_search.fit(X_train, y_train)\n",
    "\n",
    "#Select Best Model Found\n",
    "best_model = grid_search.best_estimator_\n",
    "\n",
    "#Define cross-validation method to use\n",
    "cv = LeaveOneOut()\n",
    "\n",
    "#use LOOCV to evaluate model\n",
    "scores = cross_val_score(best_model, X, y, scoring='accuracy',\n",
    "                         cv=cv, n_jobs=-1)\n",
    "\n",
    "accuracy = scores.mean()\n",
    "\n",
    "#Print accuracy\n",
    "print(\"All Measures Accuracy:\", accuracy)"
   ]
  },
  {
   "cell_type": "code",
   "execution_count": 12,
   "id": "92e185b9-9bfc-492f-9361-b526e5e31112",
   "metadata": {},
   "outputs": [
    {
     "name": "stdout",
     "output_type": "stream",
     "text": [
      "No Health Measures Accuracy: 0.7487223168654173\n"
     ]
    }
   ],
   "source": [
    "np.random.seed(1337)\n",
    "\n",
    "#No Health Measures\n",
    "\n",
    "#Search Params\n",
    "param_grid = {\n",
    "    'max_depth': [3, 4, 5],\n",
    "    'n_estimators': [100, 200, 300]\n",
    "}\n",
    "\n",
    "#Instantiate Random Forest\n",
    "rf = RandomForestClassifier()\n",
    "\n",
    "#Perform grid search\n",
    "grid_search = GridSearchCV(estimator = rf, param_grid = param_grid, cv = 20, scoring = 'accuracy')\n",
    "grid_search.fit(X_train_cut, y_train)\n",
    "\n",
    "#Select Best Model Found\n",
    "best_model = grid_search.best_estimator_\n",
    "\n",
    "#Define cross-validation method to use\n",
    "cv = LeaveOneOut()\n",
    "\n",
    "#use LOOCV to evaluate model\n",
    "scores = cross_val_score(best_model, X_cut, y, scoring='accuracy',\n",
    "                         cv=cv, n_jobs=-1)\n",
    "\n",
    "accuracy = scores.mean()\n",
    "\n",
    "#Print accuracy\n",
    "print(\"No Health Measures Accuracy:\", accuracy)"
   ]
  },
  {
   "cell_type": "code",
   "execution_count": 13,
   "id": "503b4d28-ba61-480e-989c-dd8d0eaa582d",
   "metadata": {},
   "outputs": [
    {
     "name": "stdout",
     "output_type": "stream",
     "text": [
      "PCA Measure Accuracy: 0.6631175468483816\n"
     ]
    }
   ],
   "source": [
    "np.random.seed(1337)\n",
    "\n",
    "#All Measures with Linear Kernel PCA\n",
    "\n",
    "#Search Params\n",
    "param_grid = {\n",
    "    'max_depth': [3, 4, 5],\n",
    "    'n_estimators': [100, 200, 300]\n",
    "}\n",
    "\n",
    "#Instantiate Random Forest\n",
    "rf = RandomForestClassifier()\n",
    "\n",
    "#Perform grid search\n",
    "grid_search = GridSearchCV(estimator = rf, param_grid = param_grid, cv = 20, scoring = 'accuracy')\n",
    "grid_search.fit(X_train_pca, y_train_pca)\n",
    "\n",
    "#Select Best Model Found\n",
    "best_model = grid_search.best_estimator_\n",
    "\n",
    "#Define cross-validation method to use\n",
    "cv = LeaveOneOut()\n",
    "\n",
    "#use LOOCV to evaluate model\n",
    "scores = cross_val_score(best_model, X_pca, y_pca, scoring='accuracy',\n",
    "                         cv=cv, n_jobs=-1)\n",
    "\n",
    "accuracy = scores.mean()\n",
    "\n",
    "#Print accuracy\n",
    "print(\"PCA Measure Accuracy:\", accuracy)"
   ]
  },
  {
   "cell_type": "markdown",
   "id": "81840507-a288-44e5-b868-e9cf3ac0055c",
   "metadata": {},
   "source": [
    "# Logistic Regression"
   ]
  },
  {
   "cell_type": "code",
   "execution_count": 14,
   "id": "654f9610-4d4d-4a2c-9abf-9a27453544a8",
   "metadata": {},
   "outputs": [
    {
     "name": "stdout",
     "output_type": "stream",
     "text": [
      "All Measures Accuracy: 0.7372231686541738\n"
     ]
    }
   ],
   "source": [
    "from sklearn.linear_model import LogisticRegression\n",
    "\n",
    "np.random.seed(1337)\n",
    "\n",
    "#All Measures\n",
    "\n",
    "#Search Params\n",
    "param_grid = {\n",
    "    'C': [0.1, 1.0, 10.0],  \n",
    "    'penalty': ['l1', 'l2']\n",
    "}\n",
    "\n",
    "#Instantiate Logistic Regression\n",
    "lr = LogisticRegression(max_iter = 1000)\n",
    "\n",
    "#Perform grid search\n",
    "grid_search = GridSearchCV(estimator = lr, param_grid = param_grid, cv = 20, scoring = 'accuracy')\n",
    "grid_search.fit(X_train, y_train)\n",
    "\n",
    "#Select Best Model Found\n",
    "best_model = grid_search.best_estimator_\n",
    "\n",
    "#Define cross-validation method to use\n",
    "cv = LeaveOneOut()\n",
    "\n",
    "#use LOOCV to evaluate model\n",
    "scores = cross_val_score(best_model, X, y, scoring='accuracy',\n",
    "                         cv=cv, n_jobs=-1)\n",
    "\n",
    "accuracy = scores.mean()\n",
    "\n",
    "#Print accuracy\n",
    "print(\"All Measures Accuracy:\", accuracy)"
   ]
  },
  {
   "cell_type": "code",
   "execution_count": 15,
   "id": "01ee8cfb-2f8d-4d69-8a78-2a10ca544e02",
   "metadata": {},
   "outputs": [
    {
     "name": "stdout",
     "output_type": "stream",
     "text": [
      "No Health Measures Accuracy: 0.7389267461669506\n"
     ]
    }
   ],
   "source": [
    "np.random.seed(1337)\n",
    "\n",
    "#No Health Measures\n",
    "\n",
    "#Search Params\n",
    "param_grid = {\n",
    "    'C': [0.1, 1.0, 10.0],  \n",
    "    'penalty': ['l1', 'l2']\n",
    "}\n",
    "\n",
    "#Instantiate Logistic Regression\n",
    "lr = LogisticRegression(max_iter = 1000)\n",
    "\n",
    "#Perform grid search\n",
    "grid_search = GridSearchCV(estimator = lr, param_grid = param_grid, cv = 20, scoring = 'accuracy')\n",
    "grid_search.fit(X_train_cut, y_train)\n",
    "\n",
    "#Select Best Model Found\n",
    "best_model = grid_search.best_estimator_\n",
    "\n",
    "#Define cross-validation method to use\n",
    "cv = LeaveOneOut()\n",
    "\n",
    "#use LOOCV to evaluate model\n",
    "scores = cross_val_score(best_model, X_cut, y, scoring='accuracy',\n",
    "                         cv=cv, n_jobs=-1)\n",
    "\n",
    "accuracy = scores.mean()\n",
    "\n",
    "#Print accuracy\n",
    "print(\"No Health Measures Accuracy:\", accuracy)"
   ]
  },
  {
   "cell_type": "code",
   "execution_count": 16,
   "id": "c836f848-8024-4d07-aab1-9c41d07aef49",
   "metadata": {},
   "outputs": [
    {
     "name": "stdout",
     "output_type": "stream",
     "text": [
      "PCA Measures Accuracy: 0.7367972742759795\n"
     ]
    }
   ],
   "source": [
    "np.random.seed(1337)\n",
    "\n",
    "#All Measures with Linear Kernel PCA\n",
    "\n",
    "#Search Params\n",
    "param_grid = {\n",
    "    'C': [0.1, 1.0, 10.0],  \n",
    "    'penalty': ['l1', 'l2']\n",
    "}\n",
    "\n",
    "#Instantiate Logistic Regression\n",
    "lr = LogisticRegression(max_iter = 1000)\n",
    "\n",
    "#Perform grid search\n",
    "grid_search = GridSearchCV(estimator = lr, param_grid = param_grid, cv = 20, scoring = 'accuracy')\n",
    "grid_search.fit(X_train_pca, y_train_pca)\n",
    "\n",
    "#Select Best Model Found\n",
    "best_model = grid_search.best_estimator_\n",
    "\n",
    "#Define cross-validation method to use\n",
    "cv = LeaveOneOut()\n",
    "\n",
    "#use LOOCV to evaluate model\n",
    "scores = cross_val_score(best_model, X_pca, y_pca, scoring='accuracy',\n",
    "                         cv=cv, n_jobs=-1)\n",
    "\n",
    "accuracy = scores.mean()\n",
    "\n",
    "#Print accuracy\n",
    "print(\"PCA Measures Accuracy:\", accuracy)"
   ]
  }
 ],
 "metadata": {
  "kernelspec": {
   "display_name": "Python 3",
   "language": "python",
   "name": "python3"
  },
  "language_info": {
   "codemirror_mode": {
    "name": "ipython",
    "version": 3
   },
   "file_extension": ".py",
   "mimetype": "text/x-python",
   "name": "python",
   "nbconvert_exporter": "python",
   "pygments_lexer": "ipython3",
   "version": "3.8.8"
  }
 },
 "nbformat": 4,
 "nbformat_minor": 5
}
